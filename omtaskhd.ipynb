{
 "cells": [
  {
   "cell_type": "markdown",
   "metadata": {},
   "source": [
    "Student Name : Om Dave\n",
    "\n",
    "Student ID : 222311692\n",
    "\n",
    "Subject Name : SIT - 307 : Machine Learning\n",
    "\n",
    "Task : 7.2 HD"
   ]
  },
  {
   "cell_type": "markdown",
   "metadata": {},
   "source": [
    "# Introduction\n",
    "This notebook demonstrates the process of loading, preprocessing, and modeling data for power consumption prediction using various machine learning algorithms. We will explore different regression models, including Random Forest, Decision Tree, Support Vector Regression, Linear Regression, and a Feedforward Neural Network, comparing their performance using RMSE and MAE metrics."
   ]
  },
  {
   "cell_type": "markdown",
   "metadata": {},
   "source": [
    "# Install Required Libraries\n",
    "The following command installs necessary Python libraries: TensorFlow, Keras, Pandas, NumPy, and Scikit-learn."
   ]
  },
  {
   "cell_type": "code",
   "execution_count": 1,
   "metadata": {},
   "outputs": [
    {
     "name": "stdout",
     "output_type": "stream",
     "text": [
      "Defaulting to user installation because normal site-packages is not writeable\n",
      "Collecting tensorflow\n",
      "  Downloading tensorflow-2.16.1-cp39-cp39-macosx_12_0_arm64.whl (227.0 MB)\n",
      "\u001b[K     |████████████████████████████████| 227.0 MB 115.6 MB/s eta 0:00:01\n",
      "\u001b[?25hCollecting absl-py>=1.0.0\n",
      "  Downloading absl_py-2.1.0-py3-none-any.whl (133 kB)\n",
      "\u001b[K     |████████████████████████████████| 133 kB 31.5 MB/s eta 0:00:01\n",
      "\u001b[?25hCollecting flatbuffers>=23.5.26\n",
      "  Downloading flatbuffers-24.3.25-py2.py3-none-any.whl (26 kB)\n",
      "Collecting libclang>=13.0.0\n",
      "  Downloading libclang-18.1.1-py2.py3-none-macosx_11_0_arm64.whl (26.4 MB)\n",
      "\u001b[K     |████████████████████████████████| 26.4 MB 26.1 MB/s eta 0:00:01\n",
      "\u001b[?25hCollecting wrapt>=1.11.0\n",
      "  Downloading wrapt-1.16.0-cp39-cp39-macosx_11_0_arm64.whl (38 kB)\n",
      "Collecting tensorflow-io-gcs-filesystem>=0.23.1\n",
      "  Downloading tensorflow_io_gcs_filesystem-0.37.0-cp39-cp39-macosx_12_0_arm64.whl (3.5 MB)\n",
      "\u001b[K     |████████████████████████████████| 3.5 MB 30.6 MB/s eta 0:00:01\n",
      "\u001b[?25hRequirement already satisfied: setuptools in /Applications/Xcode.app/Contents/Developer/Library/Frameworks/Python3.framework/Versions/3.9/lib/python3.9/site-packages (from tensorflow) (58.0.4)\n",
      "Collecting numpy<2.0.0,>=1.23.5\n",
      "  Downloading numpy-1.26.4-cp39-cp39-macosx_11_0_arm64.whl (14.0 MB)\n",
      "\u001b[K     |████████████████████████████████| 14.0 MB 53.8 MB/s eta 0:00:01\n",
      "\u001b[?25hCollecting termcolor>=1.1.0\n",
      "  Downloading termcolor-2.4.0-py3-none-any.whl (7.7 kB)\n",
      "Collecting google-pasta>=0.1.1\n",
      "  Downloading google_pasta-0.2.0-py3-none-any.whl (57 kB)\n",
      "\u001b[K     |████████████████████████████████| 57 kB 17.3 MB/s eta 0:00:01\n",
      "\u001b[?25hCollecting astunparse>=1.6.0\n",
      "  Downloading astunparse-1.6.3-py2.py3-none-any.whl (12 kB)\n",
      "Requirement already satisfied: typing-extensions>=3.6.6 in /Users/s222311692/Library/Python/3.9/lib/python/site-packages (from tensorflow) (4.12.0)\n",
      "Collecting grpcio<2.0,>=1.24.3\n",
      "  Downloading grpcio-1.64.0-cp39-cp39-macosx_10_9_universal2.whl (10.4 MB)\n",
      "\u001b[K     |████████████████████████████████| 10.4 MB 64.9 MB/s eta 0:00:01\n",
      "\u001b[?25hCollecting requests<3,>=2.21.0\n",
      "  Downloading requests-2.32.3-py3-none-any.whl (64 kB)\n",
      "\u001b[K     |████████████████████████████████| 64 kB 13.0 MB/s eta 0:00:01\n",
      "\u001b[?25hCollecting protobuf!=4.21.0,!=4.21.1,!=4.21.2,!=4.21.3,!=4.21.4,!=4.21.5,<5.0.0dev,>=3.20.3\n",
      "  Downloading protobuf-4.25.3-cp37-abi3-macosx_10_9_universal2.whl (394 kB)\n",
      "\u001b[K     |████████████████████████████████| 394 kB 70.4 MB/s eta 0:00:01\n",
      "\u001b[?25hCollecting h5py>=3.10.0\n",
      "  Downloading h5py-3.11.0-cp39-cp39-macosx_11_0_arm64.whl (3.0 MB)\n",
      "\u001b[K     |████████████████████████████████| 3.0 MB 35.1 MB/s eta 0:00:01\n",
      "\u001b[?25hRequirement already satisfied: packaging in /Users/s222311692/Library/Python/3.9/lib/python/site-packages (from tensorflow) (24.0)\n",
      "Collecting tensorboard<2.17,>=2.16\n",
      "  Downloading tensorboard-2.16.2-py3-none-any.whl (5.5 MB)\n",
      "\u001b[K     |████████████████████████████████| 5.5 MB 44.6 MB/s eta 0:00:01\n",
      "\u001b[?25hCollecting opt-einsum>=2.3.2\n",
      "  Downloading opt_einsum-3.3.0-py3-none-any.whl (65 kB)\n",
      "\u001b[K     |████████████████████████████████| 65 kB 14.1 MB/s eta 0:00:01\n",
      "\u001b[?25hCollecting keras>=3.0.0\n",
      "  Downloading keras-3.3.3-py3-none-any.whl (1.1 MB)\n",
      "\u001b[K     |████████████████████████████████| 1.1 MB 37.2 MB/s eta 0:00:01\n",
      "\u001b[?25hCollecting ml-dtypes~=0.3.1\n",
      "  Downloading ml_dtypes-0.3.2-cp39-cp39-macosx_10_9_universal2.whl (389 kB)\n",
      "\u001b[K     |████████████████████████████████| 389 kB 60.8 MB/s eta 0:00:01\n",
      "\u001b[?25hRequirement already satisfied: six>=1.12.0 in /Applications/Xcode.app/Contents/Developer/Library/Frameworks/Python3.framework/Versions/3.9/lib/python3.9/site-packages (from tensorflow) (1.15.0)\n",
      "Collecting gast!=0.5.0,!=0.5.1,!=0.5.2,>=0.2.1\n",
      "  Downloading gast-0.5.4-py3-none-any.whl (19 kB)\n",
      "Requirement already satisfied: wheel<1.0,>=0.23.0 in /Applications/Xcode.app/Contents/Developer/Library/Frameworks/Python3.framework/Versions/3.9/lib/python3.9/site-packages (from astunparse>=1.6.0->tensorflow) (0.37.0)\n",
      "Collecting rich\n",
      "  Downloading rich-13.7.1-py3-none-any.whl (240 kB)\n",
      "\u001b[K     |████████████████████████████████| 240 kB 60.4 MB/s eta 0:00:01\n",
      "\u001b[?25hCollecting namex\n",
      "  Downloading namex-0.0.8-py3-none-any.whl (5.8 kB)\n",
      "Collecting optree\n",
      "  Downloading optree-0.11.0-cp39-cp39-macosx_11_0_arm64.whl (273 kB)\n",
      "\u001b[K     |████████████████████████████████| 273 kB 55.2 MB/s eta 0:00:01\n",
      "\u001b[?25hCollecting urllib3<3,>=1.21.1\n",
      "  Downloading urllib3-2.2.1-py3-none-any.whl (121 kB)\n",
      "\u001b[K     |████████████████████████████████| 121 kB 57.0 MB/s eta 0:00:01\n",
      "\u001b[?25hCollecting certifi>=2017.4.17\n",
      "  Downloading certifi-2024.2.2-py3-none-any.whl (163 kB)\n",
      "\u001b[K     |████████████████████████████████| 163 kB 61.5 MB/s eta 0:00:01\n",
      "\u001b[?25hCollecting charset-normalizer<4,>=2\n",
      "  Downloading charset_normalizer-3.3.2-cp39-cp39-macosx_11_0_arm64.whl (120 kB)\n",
      "\u001b[K     |████████████████████████████████| 120 kB 61.1 MB/s eta 0:00:01\n",
      "\u001b[?25hCollecting idna<4,>=2.5\n",
      "  Downloading idna-3.7-py3-none-any.whl (66 kB)\n",
      "\u001b[K     |████████████████████████████████| 66 kB 17.5 MB/s eta 0:00:01\n",
      "\u001b[?25hCollecting tensorboard-data-server<0.8.0,>=0.7.0\n",
      "  Downloading tensorboard_data_server-0.7.2-py3-none-any.whl (2.4 kB)\n",
      "Collecting markdown>=2.6.8\n",
      "  Downloading Markdown-3.6-py3-none-any.whl (105 kB)\n",
      "\u001b[K     |████████████████████████████████| 105 kB 67.9 MB/s eta 0:00:01\n",
      "\u001b[?25hCollecting werkzeug>=1.0.1\n",
      "  Downloading werkzeug-3.0.3-py3-none-any.whl (227 kB)\n",
      "\u001b[K     |████████████████████████████████| 227 kB 66.8 MB/s eta 0:00:01\n",
      "\u001b[?25hRequirement already satisfied: importlib-metadata>=4.4 in /Users/s222311692/Library/Python/3.9/lib/python/site-packages (from markdown>=2.6.8->tensorboard<2.17,>=2.16->tensorflow) (7.1.0)\n",
      "Requirement already satisfied: zipp>=0.5 in /Users/s222311692/Library/Python/3.9/lib/python/site-packages (from importlib-metadata>=4.4->markdown>=2.6.8->tensorboard<2.17,>=2.16->tensorflow) (3.19.0)\n",
      "Collecting MarkupSafe>=2.1.1\n",
      "  Downloading MarkupSafe-2.1.5-cp39-cp39-macosx_10_9_universal2.whl (18 kB)\n",
      "Collecting markdown-it-py>=2.2.0\n",
      "  Downloading markdown_it_py-3.0.0-py3-none-any.whl (87 kB)\n",
      "\u001b[K     |████████████████████████████████| 87 kB 21.0 MB/s eta 0:00:01\n",
      "\u001b[?25hRequirement already satisfied: pygments<3.0.0,>=2.13.0 in /Users/s222311692/Library/Python/3.9/lib/python/site-packages (from rich->keras>=3.0.0->tensorflow) (2.18.0)\n",
      "Collecting mdurl~=0.1\n",
      "  Downloading mdurl-0.1.2-py3-none-any.whl (10.0 kB)\n",
      "Installing collected packages: mdurl, numpy, MarkupSafe, markdown-it-py, werkzeug, urllib3, tensorboard-data-server, rich, protobuf, optree, namex, ml-dtypes, markdown, idna, h5py, grpcio, charset-normalizer, certifi, absl-py, wrapt, termcolor, tensorflow-io-gcs-filesystem, tensorboard, requests, opt-einsum, libclang, keras, google-pasta, gast, flatbuffers, astunparse, tensorflow\n",
      "Successfully installed MarkupSafe-2.1.5 absl-py-2.1.0 astunparse-1.6.3 certifi-2024.2.2 charset-normalizer-3.3.2 flatbuffers-24.3.25 gast-0.5.4 google-pasta-0.2.0 grpcio-1.64.0 h5py-3.11.0 idna-3.7 keras-3.3.3 libclang-18.1.1 markdown-3.6 markdown-it-py-3.0.0 mdurl-0.1.2 ml-dtypes-0.3.2 namex-0.0.8 numpy-1.26.4 opt-einsum-3.3.0 optree-0.11.0 protobuf-4.25.3 requests-2.32.3 rich-13.7.1 tensorboard-2.16.2 tensorboard-data-server-0.7.2 tensorflow-2.16.1 tensorflow-io-gcs-filesystem-0.37.0 termcolor-2.4.0 urllib3-2.2.1 werkzeug-3.0.3 wrapt-1.16.0\n",
      "\u001b[33mWARNING: You are using pip version 21.2.4; however, version 24.0 is available.\n",
      "You should consider upgrading via the '/Applications/Xcode.app/Contents/Developer/usr/bin/python3 -m pip install --upgrade pip' command.\u001b[0m\n",
      "Defaulting to user installation because normal site-packages is not writeable\n",
      "Requirement already satisfied: keras in /Users/s222311692/Library/Python/3.9/lib/python/site-packages (3.3.3)\n",
      "Requirement already satisfied: numpy in /Users/s222311692/Library/Python/3.9/lib/python/site-packages (from keras) (1.26.4)\n",
      "Requirement already satisfied: optree in /Users/s222311692/Library/Python/3.9/lib/python/site-packages (from keras) (0.11.0)\n",
      "Requirement already satisfied: absl-py in /Users/s222311692/Library/Python/3.9/lib/python/site-packages (from keras) (2.1.0)\n",
      "Requirement already satisfied: rich in /Users/s222311692/Library/Python/3.9/lib/python/site-packages (from keras) (13.7.1)\n",
      "Requirement already satisfied: h5py in /Users/s222311692/Library/Python/3.9/lib/python/site-packages (from keras) (3.11.0)\n",
      "Requirement already satisfied: ml-dtypes in /Users/s222311692/Library/Python/3.9/lib/python/site-packages (from keras) (0.3.2)\n",
      "Requirement already satisfied: namex in /Users/s222311692/Library/Python/3.9/lib/python/site-packages (from keras) (0.0.8)\n",
      "Requirement already satisfied: typing-extensions>=4.0.0 in /Users/s222311692/Library/Python/3.9/lib/python/site-packages (from optree->keras) (4.12.0)\n",
      "Requirement already satisfied: pygments<3.0.0,>=2.13.0 in /Users/s222311692/Library/Python/3.9/lib/python/site-packages (from rich->keras) (2.18.0)\n",
      "Requirement already satisfied: markdown-it-py>=2.2.0 in /Users/s222311692/Library/Python/3.9/lib/python/site-packages (from rich->keras) (3.0.0)\n",
      "Requirement already satisfied: mdurl~=0.1 in /Users/s222311692/Library/Python/3.9/lib/python/site-packages (from markdown-it-py>=2.2.0->rich->keras) (0.1.2)\n",
      "\u001b[33mWARNING: You are using pip version 21.2.4; however, version 24.0 is available.\n",
      "You should consider upgrading via the '/Applications/Xcode.app/Contents/Developer/usr/bin/python3 -m pip install --upgrade pip' command.\u001b[0m\n",
      "Defaulting to user installation because normal site-packages is not writeable\n",
      "Collecting pandas\n",
      "  Downloading pandas-2.2.2-cp39-cp39-macosx_11_0_arm64.whl (11.3 MB)\n",
      "\u001b[K     |████████████████████████████████| 11.3 MB 4.8 MB/s eta 0:00:01\n",
      "\u001b[?25hRequirement already satisfied: python-dateutil>=2.8.2 in /Users/s222311692/Library/Python/3.9/lib/python/site-packages (from pandas) (2.9.0.post0)\n",
      "Requirement already satisfied: numpy>=1.22.4 in /Users/s222311692/Library/Python/3.9/lib/python/site-packages (from pandas) (1.26.4)\n",
      "Collecting tzdata>=2022.7\n",
      "  Downloading tzdata-2024.1-py2.py3-none-any.whl (345 kB)\n",
      "\u001b[K     |████████████████████████████████| 345 kB 69.9 MB/s eta 0:00:01\n",
      "\u001b[?25hCollecting pytz>=2020.1\n",
      "  Downloading pytz-2024.1-py2.py3-none-any.whl (505 kB)\n",
      "\u001b[K     |████████████████████████████████| 505 kB 65.4 MB/s eta 0:00:01\n",
      "\u001b[?25hRequirement already satisfied: six>=1.5 in /Applications/Xcode.app/Contents/Developer/Library/Frameworks/Python3.framework/Versions/3.9/lib/python3.9/site-packages (from python-dateutil>=2.8.2->pandas) (1.15.0)\n",
      "Installing collected packages: tzdata, pytz, pandas\n",
      "Successfully installed pandas-2.2.2 pytz-2024.1 tzdata-2024.1\n",
      "\u001b[33mWARNING: You are using pip version 21.2.4; however, version 24.0 is available.\n",
      "You should consider upgrading via the '/Applications/Xcode.app/Contents/Developer/usr/bin/python3 -m pip install --upgrade pip' command.\u001b[0m\n",
      "Defaulting to user installation because normal site-packages is not writeable\n",
      "Requirement already satisfied: numpy in /Users/s222311692/Library/Python/3.9/lib/python/site-packages (1.26.4)\n",
      "\u001b[33mWARNING: You are using pip version 21.2.4; however, version 24.0 is available.\n",
      "You should consider upgrading via the '/Applications/Xcode.app/Contents/Developer/usr/bin/python3 -m pip install --upgrade pip' command.\u001b[0m\n",
      "Defaulting to user installation because normal site-packages is not writeable\n",
      "Collecting scikit-learn\n",
      "  Downloading scikit_learn-1.5.0-cp39-cp39-macosx_12_0_arm64.whl (11.0 MB)\n",
      "\u001b[K     |████████████████████████████████| 11.0 MB 5.1 MB/s eta 0:00:01\n",
      "\u001b[?25hCollecting joblib>=1.2.0\n",
      "  Downloading joblib-1.4.2-py3-none-any.whl (301 kB)\n",
      "\u001b[K     |████████████████████████████████| 301 kB 52.3 MB/s eta 0:00:01\n",
      "\u001b[?25hCollecting scipy>=1.6.0\n",
      "  Downloading scipy-1.13.1-cp39-cp39-macosx_12_0_arm64.whl (30.3 MB)\n",
      "\u001b[K     |████████████████████████████████| 30.3 MB 32.5 MB/s eta 0:00:01\n",
      "\u001b[?25hRequirement already satisfied: numpy>=1.19.5 in /Users/s222311692/Library/Python/3.9/lib/python/site-packages (from scikit-learn) (1.26.4)\n",
      "Collecting threadpoolctl>=3.1.0\n",
      "  Downloading threadpoolctl-3.5.0-py3-none-any.whl (18 kB)\n",
      "Installing collected packages: threadpoolctl, scipy, joblib, scikit-learn\n",
      "Successfully installed joblib-1.4.2 scikit-learn-1.5.0 scipy-1.13.1 threadpoolctl-3.5.0\n",
      "\u001b[33mWARNING: You are using pip version 21.2.4; however, version 24.0 is available.\n",
      "You should consider upgrading via the '/Applications/Xcode.app/Contents/Developer/usr/bin/python3 -m pip install --upgrade pip' command.\u001b[0m\n"
     ]
    },
    {
     "name": "stderr",
     "output_type": "stream",
     "text": [
      "/Users/s222311692/Library/Python/3.9/lib/python/site-packages/urllib3/__init__.py:35: NotOpenSSLWarning: urllib3 v2 only supports OpenSSL 1.1.1+, currently the 'ssl' module is compiled with 'LibreSSL 2.8.3'. See: https://github.com/urllib3/urllib3/issues/3020\n",
      "  warnings.warn(\n"
     ]
    }
   ],
   "source": [
    "# Install necessary libraries\n",
    "!pip3 install tensorflow   # TensorFlow library for deep learning\n",
    "!pip3 install keras        # Keras library for neural networks (now part of TensorFlow)\n",
    "!pip3 install pandas       # Pandas library for data manipulation and analysis\n",
    "!pip3 install numpy        # NumPy library for numerical operations\n",
    "!pip3 install scikit-learn # Scikit-learn library for machine learning\n",
    "\n",
    "import pandas as pd\n",
    "from sklearn.model_selection import train_test_split, GridSearchCV\n",
    "from sklearn.preprocessing import MinMaxScaler\n",
    "from sklearn.ensemble import RandomForestRegressor\n",
    "from sklearn.tree import DecisionTreeRegressor\n",
    "from sklearn.svm import SVR\n",
    "from sklearn.linear_model import LinearRegression\n",
    "from sklearn.metrics import mean_squared_error, mean_absolute_error\n",
    "import numpy as np\n",
    "from keras.models import Sequential\n",
    "from keras.layers import Dense\n",
    "from keras.optimizers import Adam"
   ]
  },
  {
   "cell_type": "markdown",
   "metadata": {},
   "source": [
    "# Load Data and Select Features\n",
    "Load the dataset from the provided file path and select features excluding datetime and power consumption columns.\n"
   ]
  },
  {
   "cell_type": "code",
   "execution_count": 2,
   "metadata": {},
   "outputs": [],
   "source": [
    "# Loading the data from the csv file\n",
    "file_path = '/Users/s222311692/Desktop/HD/data.csv'\n",
    "data = pd.read_csv(file_path)\n"
   ]
  },
  {
   "cell_type": "code",
   "execution_count": 3,
   "metadata": {},
   "outputs": [
    {
     "name": "stdout",
     "output_type": "stream",
     "text": [
      "               DateTime  Temperature  Humidity  Wind Speed  \\\n",
      "0         1/1/2017 0:00        6.559      73.8       0.083   \n",
      "1         1/1/2017 0:10        6.414      74.5       0.083   \n",
      "2         1/1/2017 0:20        6.313      74.5       0.080   \n",
      "3         1/1/2017 0:30        6.121      75.0       0.083   \n",
      "4         1/1/2017 0:40        5.921      75.7       0.081   \n",
      "...                 ...          ...       ...         ...   \n",
      "52411  12/30/2017 23:10        7.010      72.4       0.080   \n",
      "52412  12/30/2017 23:20        6.947      72.6       0.082   \n",
      "52413  12/30/2017 23:30        6.900      72.8       0.086   \n",
      "52414  12/30/2017 23:40        6.758      73.0       0.080   \n",
      "52415  12/30/2017 23:50        6.580      74.1       0.081   \n",
      "\n",
      "       general diffuse flows  diffuse flows  Zone 1 Power Consumption  \\\n",
      "0                      0.051          0.119               34055.69620   \n",
      "1                      0.070          0.085               29814.68354   \n",
      "2                      0.062          0.100               29128.10127   \n",
      "3                      0.091          0.096               28228.86076   \n",
      "4                      0.048          0.085               27335.69620   \n",
      "...                      ...            ...                       ...   \n",
      "52411                  0.040          0.096               31160.45627   \n",
      "52412                  0.051          0.093               30430.41825   \n",
      "52413                  0.084          0.074               29590.87452   \n",
      "52414                  0.066          0.089               28958.17490   \n",
      "52415                  0.062          0.111               28349.80989   \n",
      "\n",
      "       Zone 2  Power Consumption  Zone 3  Power Consumption  \n",
      "0                    16128.87538                20240.96386  \n",
      "1                    19375.07599                20131.08434  \n",
      "2                    19006.68693                19668.43373  \n",
      "3                    18361.09422                18899.27711  \n",
      "4                    17872.34043                18442.40964  \n",
      "...                          ...                        ...  \n",
      "52411                26857.31820                14780.31212  \n",
      "52412                26124.57809                14428.81152  \n",
      "52413                25277.69254                13806.48259  \n",
      "52414                24692.23688                13512.60504  \n",
      "52415                24055.23167                13345.49820  \n",
      "\n",
      "[52416 rows x 9 columns]\n"
     ]
    }
   ],
   "source": [
    "print(data) #printing the data to see if is correctly imported"
   ]
  },
  {
   "cell_type": "code",
   "execution_count": 4,
   "metadata": {},
   "outputs": [],
   "source": [
    "# Selecting the targeted features and the target\n",
    "# i) Using the same set of features used by the authors\n",
    "features = data.drop(columns=['DateTime', 'Zone 1 Power Consumption', 'Zone 2  Power Consumption', 'Zone 3  Power Consumption'])\n",
    "target = data[['Zone 1 Power Consumption', 'Zone 2  Power Consumption', 'Zone 3  Power Consumption']].sum(axis=1)"
   ]
  },
  {
   "cell_type": "markdown",
   "metadata": {},
   "source": [
    "# Normalize the Features\n",
    "Normalize the features using Min-Max scaling to transform the data within the range [0, 1].\n"
   ]
  },
  {
   "cell_type": "code",
   "execution_count": 5,
   "metadata": {},
   "outputs": [],
   "source": [
    "# Normalizing the data using Min-Max Normalization\n",
    "# iv) Using the same pre/post processing, used by the authors\n",
    "scaler = MinMaxScaler()\n",
    "features_scaled = scaler.fit_transform(features)"
   ]
  },
  {
   "cell_type": "markdown",
   "metadata": {},
   "source": [
    "# Split the Data into Training and Testing Sets\n",
    "Split the normalized data into training (75%) and testing (25%) sets to evaluate model performance.\n"
   ]
  },
  {
   "cell_type": "code",
   "execution_count": 6,
   "metadata": {},
   "outputs": [],
   "source": [
    "# Split the data into training and testing sets (75% train, 25% test)\n",
    "# iii) Using the same training/test splitting approach as used by the authors\n",
    "X_train, X_test, y_train, y_test = train_test_split(features_scaled, target, test_size=0.25, random_state=42)"
   ]
  },
  {
   "cell_type": "markdown",
   "metadata": {},
   "source": [
    "# Define Parameter Grids for Model Tuning\n",
    "Specify parameter grids for Random Forest, Decision Tree, and Support Vector Regression for hyperparameter tuning.\n"
   ]
  },
  {
   "cell_type": "markdown",
   "metadata": {},
   "source": [
    "# Initialize and Train Models\n",
    "Initialize base models with default parameters and perform grid search for models requiring hyperparameter tuning.\n"
   ]
  },
  {
   "cell_type": "markdown",
   "metadata": {},
   "source": [
    "# Define and Train the Feedforward Neural Network\n",
    "Define a Feedforward Neural Network using Keras and train it using the training data.\n"
   ]
  },
  {
   "cell_type": "code",
   "execution_count": 7,
   "metadata": {},
   "outputs": [
    {
     "name": "stderr",
     "output_type": "stream",
     "text": [
      "/Users/s222311692/Library/Python/3.9/lib/python/site-packages/joblib/externals/loky/process_executor.py:752: UserWarning: A worker stopped while some jobs were given to the executor. This can be caused by a too short worker timeout or by a memory leak.\n",
      "  warnings.warn(\n",
      "/Users/s222311692/Library/Python/3.9/lib/python/site-packages/keras/src/layers/core/dense.py:87: UserWarning: Do not pass an `input_shape`/`input_dim` argument to a layer. When using Sequential models, prefer using an `Input(shape)` object as the first layer in the model instead.\n",
      "  super().__init__(activity_regularizer=activity_regularizer, **kwargs)\n"
     ]
    },
    {
     "data": {
      "text/plain": [
       "<keras.src.callbacks.history.History at 0x2948bca60>"
      ]
     },
     "execution_count": 7,
     "metadata": {},
     "output_type": "execute_result"
    }
   ],
   "source": [
    "# Define parameter grids for each model\n",
    "# ii) Using the same classifier with exact parameter values\n",
    "param_grids = {\n",
    "    # Random Forest parameters as per the authors' configuration\n",
    "    \"Random Forest\": {\n",
    "        'n_estimators': [10, 20, 30, 50, 100, 200, 300],  # Number of trees in the forest\n",
    "        'max_features': [1, 2, 3, 4, 5, 6, 7, 8, 9],  # Number of features to consider at each split\n",
    "        'min_samples_split': [2],  # Minimum number of samples required to split an internal node\n",
    "        'min_samples_leaf': [1]  # Minimum number of samples required to be at a leaf node\n",
    "    },\n",
    "    # Decision Tree parameters as per the authors' configuration\n",
    "    \"Decision Tree\": {\n",
    "        'max_depth': [None],  # Maximum depth of the tree (None means nodes are expanded until all leaves are pure)\n",
    "        'min_samples_split': [10],  # Minimum number of samples required to split an internal node\n",
    "        'min_samples_leaf': [10],  # Minimum number of samples required to be at a leaf node\n",
    "        'max_features': [9]  # Number of features to consider when looking for the best split\n",
    "    },\n",
    "    # Support Vector Regression (SVR) parameters as per the authors' configuration\n",
    "    \"Support Vector Regression\": {\n",
    "        'C': [1, 10, 100, 1000],  # Regularization parameter\n",
    "        'gamma': [0.01, 0.001, 0.0001]  # Kernel coefficient for 'rbf', 'poly', and 'sigmoid'\n",
    "    }\n",
    "}\n",
    "\n",
    "# Initializing models with default parameters\n",
    "base_models = {\n",
    "    \"Random Forest\": RandomForestRegressor(random_state=42),\n",
    "    \"Decision Tree\": DecisionTreeRegressor(random_state=42),\n",
    "    \"Support Vector Regression\": SVR(),\n",
    "    \"Linear Regression\": LinearRegression()\n",
    "}\n",
    "\n",
    "# Perform grid search for the models that need hyperparameter tuning\n",
    "# Additionally, train the Linear Regression model\n",
    "models = {}\n",
    "for name in param_grids:\n",
    "    grid_search = GridSearchCV(base_models[name], param_grids[name], cv=5, scoring='neg_mean_squared_error', n_jobs=-1)\n",
    "    grid_search.fit(X_train, y_train)\n",
    "    models[name] = grid_search.best_estimator_\n",
    "\n",
    "# For Linear Regression, we do not need grid search\n",
    "models[\"Linear Regression\"] = base_models[\"Linear Regression\"].fit(X_train, y_train)\n",
    "\n",
    "# Define and train the Feedforward Neural Network (FFNN) using Keras\n",
    "ffnn = Sequential()\n",
    "ffnn.add(Dense(10, input_dim=X_train.shape[1], activation='selu'))\n",
    "ffnn.add(Dense(1))\n",
    "optimizer = Adam(learning_rate=0.001)\n",
    "ffnn.compile(loss='mean_squared_error', optimizer=optimizer)\n",
    "ffnn.fit(X_train, y_train, epochs=100, batch_size=10, verbose=0)\n",
    "\n",
    "\n",
    "#wait for about 21-22 mintues as it took this time to run   \n",
    "#and then you can proceed if uing macbook about 62 min \n"
   ]
  },
  {
   "cell_type": "markdown",
   "metadata": {},
   "source": [
    "# Calculate Performance Metrics\n",
    "Define a function to calculate RMSE and MAE for both training and testing datasets.\n"
   ]
  },
  {
   "cell_type": "code",
   "execution_count": 13,
   "metadata": {},
   "outputs": [
    {
     "name": "stdout",
     "output_type": "stream",
     "text": [
      "\u001b[1m1229/1229\u001b[0m \u001b[32m━━━━━━━━━━━━━━━━━━━━\u001b[0m\u001b[37m\u001b[0m \u001b[1m0s\u001b[0m 367us/step\n",
      "\u001b[1m410/410\u001b[0m \u001b[32m━━━━━━━━━━━━━━━━━━━━\u001b[0m\u001b[37m\u001b[0m \u001b[1m0s\u001b[0m 234us/step\n",
      "\u001b[1m1229/1229\u001b[0m \u001b[32m━━━━━━━━━━━━━━━━━━━━\u001b[0m\u001b[37m\u001b[0m \u001b[1m0s\u001b[0m 367us/step\n",
      "\u001b[1m410/410\u001b[0m \u001b[32m━━━━━━━━━━━━━━━━━━━━\u001b[0m\u001b[37m\u001b[0m \u001b[1m0s\u001b[0m 239us/step\n",
      "\n",
      "Metrics for Quads Distribution\n",
      "                           Quads Distribution\n",
      "                                         RMSE                         MAE\n",
      "                                        Train          Test         Train          Test\n",
      "Random Forest                  641.87          3152.47         458.23          2662.65        \n",
      "Decision Tree                  808.29          4594.97         508.79          3955.34        \n",
      "Support Vector Regression      4084.79         3872.55         3176.91         3023.49        \n",
      "Feedforward Neural Network     2517.87         3175.24         1935.58         2586.11        \n",
      "Linear Regression              4389.31         3921.30         3521.22         3072.45        \n",
      "\n",
      "Metrics for Smir Distribution\n",
      "                           Smir Distribution\n",
      "                                        RMSE                         MAE\n",
      "                                       Train          Test         Train          Test\n",
      "Random Forest                  210.25          2302.87         127.01          1898.30        \n",
      "Decision Tree                  266.61          2845.46         160.98          213.78         \n",
      "Support Vector Regression      4161.20         5551.62         3297.60         4677.64        \n",
      "Feedforward Neural Network     3784.37         4866.57         2934.64         4004.99        \n",
      "Linear Regression              4044.30         4935.46         3205.93         4013.44        \n",
      "\n",
      "Metrics for Boussafou Distribution\n",
      "                           Boussafou Distribution\n",
      "                                             RMSE                         MAE\n",
      "                                            Train          Test         Train          Test\n",
      "Random Forest                  552.20          3210.96         391.28          2472.11        \n",
      "Decision Tree                  596.80          3543.14         375.91          2721.06        \n",
      "Support Vector Regression      3330.92         3971.96         2638.72         3057.91        \n",
      "Feedforward Neural Network     2690.52         3741.49         2116.25         2923.36        \n",
      "Linear Regression              3122.42         5757.96         2471.83         4626.59        \n",
      "\n",
      "Metrics for Aggregated Distribution\n",
      "                           Aggregated Distribution\n",
      "                                              RMSE                         MAE\n",
      "                                             Train          Test         Train          Test\n",
      "Random Forest                  443.61          4460.17         307.38          3567.23        \n",
      "Decision Tree                  763.82          5954.76         459.96          4803.95        \n",
      "Support Vector Regression      10779.90        9646.80         8489.95         7659.60        \n",
      "Feedforward Neural Network     6462.14         7045.80         4959.35         5554.45        \n",
      "Linear Regression              10686.34        10140.92        8427.60         8070.12        \n",
      "\n"
     ]
    }
   ],
   "source": [
    "# Function to calculate RMSE and MAE\n",
    "def calculate_metrics(model, X_train, X_test, y_train, y_test):\n",
    "    y_train_pred = model.predict(X_train)\n",
    "    y_test_pred = model.predict(X_test)\n",
    "    rmse_train = np.sqrt(mean_squared_error(y_train, y_train_pred))\n",
    "    rmse_test = np.sqrt(mean_squared_error(y_test, y_test_pred))\n",
    "    mae_train = mean_absolute_error(y_train, y_train_pred)\n",
    "    mae_test = mean_absolute_error(y_test, y_test_pred)\n",
    "    return rmse_train, rmse_test, mae_train, mae_test\n",
    "\n",
    "# Calculate performance metrics for each model\n",
    "metrics = {}\n",
    "for name, model in models.items():\n",
    "    rmse_train, rmse_test, mae_train, mae_test = calculate_metrics(model, X_train, X_test, y_train, y_test)\n",
    "    metrics[name] = {\n",
    "        'RMSE_Train': rmse_train,\n",
    "        'RMSE_Test': rmse_test,\n",
    "        'MAE_Train': mae_train,\n",
    "        'MAE_Test': mae_test\n",
    "    }\n",
    "\n",
    "# Calculate metrics for FFNN\n",
    "y_train_pred = ffnn.predict(X_train).flatten()\n",
    "y_test_pred = ffnn.predict(X_test).flatten()\n",
    "metrics[\"Feedforward Neural Network\"] = {\n",
    "    'RMSE_Train': np.sqrt(mean_squared_error(y_train, y_train_pred)),\n",
    "    'RMSE_Test': np.sqrt(mean_squared_error(y_test, y_test_pred)),\n",
    "    'MAE_Train': mean_absolute_error(y_train, y_train_pred),\n",
    "    'MAE_Test': mean_absolute_error(y_test, y_test_pred)    \n",
    "}\n",
    "\n",
    "# Define the distributions\n",
    "distributions = ['Quads Distribution', 'Smir Distribution', 'Boussafou Distribution', 'Aggregated Distribution']\n",
    "\n",
    "# Print output for each distribution individually in a clear table format\n",
    "# v) Reporting the same performance metric (RMSE and MAE) as shown in Table II\n",
    "for dist in distributions:\n",
    "    columns = pd.MultiIndex.from_product([[dist], ['RMSE', 'MAE'], ['Train', 'Test']])\n",
    "    metrics_df = pd.DataFrame(columns=columns)\n",
    "    \n",
    "    for model_name, model_metrics in metrics.items():\n",
    "        metrics_df.loc[model_name, (dist, 'RMSE', 'Train')] = model_metrics['RMSE_Train']\n",
    "        metrics_df.loc[model_name, (dist, 'RMSE', 'Test')] = model_metrics['RMSE_Test']\n",
    "        metrics_df.loc[model_name, (dist, 'MAE', 'Train')] = model_metrics['MAE_Train']\n",
    "        metrics_df.loc[model_name, (dist, 'MAE', 'Test')] = model_metrics['MAE_Test']\n",
    "    \n",
    "    print(f\"\\nMetrics for {dist}\")\n",
    "    print(metrics_df.to_string())"
   ]
  },
  {
   "cell_type": "markdown",
   "metadata": {},
   "source": [
    "# Conclusion\n",
    "The analysis compares the performance of various regression models on power consumption data, highlighting the effectiveness of different algorithms. The results provide insights into which models perform best for this dataset, with detailed metrics for training and testing phases, aiding in selecting the most appropriate model for future predictions.\n"
   ]
  }
 ],
 "metadata": {
  "kernelspec": {
   "display_name": "Python 3",
   "language": "python",
   "name": "python3"
  },
  "language_info": {
   "codemirror_mode": {
    "name": "ipython",
    "version": 3
   },
   "file_extension": ".py",
   "mimetype": "text/x-python",
   "name": "python",
   "nbconvert_exporter": "python",
   "pygments_lexer": "ipython3",
   "version": "3.9.6"
  }
 },
 "nbformat": 4,
 "nbformat_minor": 2
}
